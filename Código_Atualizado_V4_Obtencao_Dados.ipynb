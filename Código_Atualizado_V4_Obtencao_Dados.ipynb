{
  "nbformat": 4,
  "nbformat_minor": 0,
  "metadata": {
    "colab": {
      "provenance": [],
      "authorship_tag": "ABX9TyOcfLDXHJA45nvmb7z7hxXR",
      "include_colab_link": true
    },
    "kernelspec": {
      "name": "python3",
      "display_name": "Python 3"
    },
    "language_info": {
      "name": "python"
    }
  },
  "cells": [
    {
      "cell_type": "markdown",
      "metadata": {
        "id": "view-in-github",
        "colab_type": "text"
      },
      "source": [
        "<a href=\"https://colab.research.google.com/github/cff100/MecFLu2/blob/main/C%C3%B3digo_Atualizado_V4_Obtencao_Dados.ipynb\" target=\"_parent\"><img src=\"https://colab.research.google.com/assets/colab-badge.svg\" alt=\"Open In Colab\"/></a>"
      ]
    },
    {
      "cell_type": "code",
      "source": [
        "import math\n",
        "from datetime import datetime, timedelta"
      ],
      "metadata": {
        "id": "Jz3WernwSZTC"
      },
      "execution_count": null,
      "outputs": []
    },
    {
      "cell_type": "code",
      "execution_count": null,
      "metadata": {
        "id": "CX7rSVGk_k0A"
      },
      "outputs": [],
      "source": [
        "# Constantes\n",
        "PA = 101.325  # Pressão atmosférica ao nível do mar em kPa\n",
        "k = 1.15e-4   # Constante em s²/m²\n",
        "g = 9.81      # Aceleração gravitacional em m/s²\n",
        "\n",
        "\n",
        "# Função para converter horário de Brasília para UTC\n",
        "def brasilia_to_utc(hour_brasilia):\n",
        "    brasilia_time = datetime.strptime(hour_brasilia, '%H:%M')\n",
        "    utc_time = brasilia_time + timedelta(hours=3)\n",
        "    return utc_time.strftime('%H:%M')\n",
        "\n",
        "\n",
        "# Níveis de pressão em KPa\n",
        "pressure_levels = [70.0, 75.0, 77.5, 80.0, 82.5, 85.0, 87.5, 90.0, 92.5, 95.0, 97.5, 100.0]\n",
        "\n",
        "# Níveis de pressão em hPa\n",
        "pressure_levels_hpa = [p * 10 for p in pressure_levels]\n",
        "\n",
        "# Horas\n",
        "horas = ['03:00', '09:00', '15:00', '21:00']\n",
        "horas_utc = [brasilia_to_utc(h) for h in horas]\n",
        "#print(horas_utc)\n",
        "\n",
        "\n",
        "# Coordenadas das plataformas\n",
        "platforms = {\n",
        "    'NAMORADO 2 (PNA-2)': (-22.45073, -40.41175),\n",
        "    'PETROBRAS 26 (P-26)': (-22.4684, -40.02869),\n",
        "    'PETROBRAS 32 (P-32)': (-22.2051, -40.1431),\n",
        "    'PETROBRAS 37 (P-37)': (-22.4868, -40.09779),\n",
        "    'PETROBRAS IX': (-22.57358, -40.82192),\n",
        "    'PETROBRAS XIX': (-22.3927, -40.05438),\n",
        "    'PETROBRAS XXXIII': (-22.37, -40.0267),\n",
        "    'VERMELHO 1 (PVM-1)': (-22.16065, -40.27872),\n",
        "    'VERMELHO 2 (PVM-2)': (-22.17535, -40.29147),\n",
        "}\n",
        "\n",
        "# Nomes das estações\n",
        "season_names = {\n",
        "        'DJF': 'Verão',\n",
        "        'MAM': 'Outono',\n",
        "        'JJA': 'Inverno',\n",
        "        'SON': 'Primavera'\n",
        "        }\n",
        "\n"
      ]
    },
    {
      "cell_type": "code",
      "execution_count": null,
      "metadata": {
        "id": "AMi3iYFhybOZ",
        "collapsed": true
      },
      "outputs": [],
      "source": [
        "!pip install cdsapi\n",
        "!pip install cartopy\n",
        "!pip install netcdf4\n",
        "\n",
        "import cdsapi\n",
        "!pip install --upgrade cdsapi"
      ]
    },
    {
      "cell_type": "code",
      "source": [
        "# Inicializa a API do CDS\n",
        "c = cdsapi.Client(url='https://cds-beta.climate.copernicus.eu/api', key='89647e12-cf97-495d-a31b-3c325c5fd352')\n",
        "\n",
        "# Nome do arquivo NetCDF para o nível de pressão atual com o horário de Brasília\n",
        "nc_filename = f'Era5_2023_CAMPOS.nc'\n",
        "\n",
        "# Requisição dos dados\n",
        "dataset = 'reanalysis-era5-pressure-levels'\n",
        "request = {\n",
        "'product_type': ['reanalysis'],\n",
        "'variable': ['temperature', 'u_component_of_wind', 'v_component_of_wind'],\n",
        "'year': ['2023'],\n",
        "'month': ['01', '02', '03', '04', '05', '06', '07', '08', '09', '10', '11', '12'],\n",
        "'day': ['01', '02', '03', '04', '05', '06', '07', '08', '09', '10', '11', '12', '13', '14', '15', '16', '17', '18', '19', '20', '21', '22', '23', '24', '25', '26', '27', '28', '29', '30', '31'],\n",
        "'time': horas_utc,\n",
        "'area': [-27, -45, -20, -35],  # Coordenadas da Bacia de Campos\n",
        "'pressure_level': pressure_levels_hpa,  # Nível convertido de kPa para hPa\n",
        "'data_format': 'netcdf',\n",
        "'download_format': 'unarchived'\n",
        "}\n",
        "\n",
        "c.retrieve(dataset, request, nc_filename)"
      ],
      "metadata": {
        "id": "yXHcbAbYfa_Q"
      },
      "execution_count": null,
      "outputs": []
    }
  ]
}