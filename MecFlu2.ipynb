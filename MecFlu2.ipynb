{
  "nbformat": 4,
  "nbformat_minor": 0,
  "metadata": {
    "colab": {
      "provenance": [],
      "authorship_tag": "ABX9TyMvWBNC2vzHZPZbcxLtPleK",
      "include_colab_link": true
    },
    "kernelspec": {
      "name": "python3",
      "display_name": "Python 3"
    },
    "language_info": {
      "name": "python"
    }
  },
  "cells": [
    {
      "cell_type": "markdown",
      "metadata": {
        "id": "view-in-github",
        "colab_type": "text"
      },
      "source": [
        "<a href=\"https://colab.research.google.com/github/cff100/MecFLu2/blob/main/MecFlu2.ipynb\" target=\"_parent\"><img src=\"https://colab.research.google.com/assets/colab-badge.svg\" alt=\"Open In Colab\"/></a>"
      ]
    },
    {
      "cell_type": "code",
      "execution_count": 27,
      "metadata": {
        "colab": {
          "base_uri": "https://localhost:8080/"
        },
        "id": "UHmHBiBF5DTX",
        "outputId": "cb799678-c173-4f45-81b6-cfb1a1cd65bd"
      },
      "outputs": [
        {
          "output_type": "stream",
          "name": "stdout",
          "text": [
            "Requirement already satisfied: openeo in /usr/local/lib/python3.10/dist-packages (0.31.0)\n",
            "Requirement already satisfied: requests>=2.26.0 in /usr/local/lib/python3.10/dist-packages (from openeo) (2.32.3)\n",
            "Requirement already satisfied: shapely>=1.6.4 in /usr/local/lib/python3.10/dist-packages (from openeo) (2.0.5)\n",
            "Requirement already satisfied: numpy>=1.17.0 in /usr/local/lib/python3.10/dist-packages (from openeo) (1.26.4)\n",
            "Requirement already satisfied: xarray>=0.12.3 in /usr/local/lib/python3.10/dist-packages (from openeo) (2024.6.0)\n",
            "Requirement already satisfied: pandas>0.20.0 in /usr/local/lib/python3.10/dist-packages (from openeo) (2.1.4)\n",
            "Requirement already satisfied: pystac>=1.5.0 in /usr/local/lib/python3.10/dist-packages (from openeo) (1.10.1)\n",
            "Requirement already satisfied: deprecated>=1.2.12 in /usr/local/lib/python3.10/dist-packages (from openeo) (1.2.14)\n",
            "Requirement already satisfied: wrapt<2,>=1.10 in /usr/local/lib/python3.10/dist-packages (from deprecated>=1.2.12->openeo) (1.16.0)\n",
            "Requirement already satisfied: python-dateutil>=2.8.2 in /usr/local/lib/python3.10/dist-packages (from pandas>0.20.0->openeo) (2.8.2)\n",
            "Requirement already satisfied: pytz>=2020.1 in /usr/local/lib/python3.10/dist-packages (from pandas>0.20.0->openeo) (2024.1)\n",
            "Requirement already satisfied: tzdata>=2022.1 in /usr/local/lib/python3.10/dist-packages (from pandas>0.20.0->openeo) (2024.1)\n",
            "Requirement already satisfied: charset-normalizer<4,>=2 in /usr/local/lib/python3.10/dist-packages (from requests>=2.26.0->openeo) (3.3.2)\n",
            "Requirement already satisfied: idna<4,>=2.5 in /usr/local/lib/python3.10/dist-packages (from requests>=2.26.0->openeo) (3.7)\n",
            "Requirement already satisfied: urllib3<3,>=1.21.1 in /usr/local/lib/python3.10/dist-packages (from requests>=2.26.0->openeo) (2.0.7)\n",
            "Requirement already satisfied: certifi>=2017.4.17 in /usr/local/lib/python3.10/dist-packages (from requests>=2.26.0->openeo) (2024.7.4)\n",
            "Requirement already satisfied: packaging>=23.1 in /usr/local/lib/python3.10/dist-packages (from xarray>=0.12.3->openeo) (24.1)\n",
            "Requirement already satisfied: six>=1.5 in /usr/local/lib/python3.10/dist-packages (from python-dateutil>=2.8.2->pandas>0.20.0->openeo) (1.16.0)\n"
          ]
        }
      ],
      "source": [
        "# prompt: pip install openeo\n",
        "\n",
        "!pip install openeo"
      ]
    },
    {
      "cell_type": "code",
      "source": [
        "import openeo\n",
        "\n",
        "connection = openeo.connect(\"openeo.dataspace.copernicus.eu\")"
      ],
      "metadata": {
        "id": "LXB36MTR7TQu"
      },
      "execution_count": 28,
      "outputs": []
    },
    {
      "cell_type": "code",
      "source": [
        "connection.authenticate_oidc()\n"
      ],
      "metadata": {
        "colab": {
          "base_uri": "https://localhost:8080/"
        },
        "id": "xmLAk22m7UAC",
        "outputId": "95b627b3-8fae-43e1-cb77-dde424a3625b"
      },
      "execution_count": 29,
      "outputs": [
        {
          "output_type": "stream",
          "name": "stdout",
          "text": [
            "Authenticated using refresh token.\n"
          ]
        },
        {
          "output_type": "execute_result",
          "data": {
            "text/plain": [
              "<Connection to 'https://openeo.dataspace.copernicus.eu/openeo/1.2/' with OidcBearerAuth>"
            ]
          },
          "metadata": {},
          "execution_count": 29
        }
      ]
    },
    {
      "cell_type": "code",
      "source": [
        "datacube = connection.load_collection(\n",
        "    \"SENTINEL2_L2A\",\n",
        "    spatial_extent={\"west\": 5.14, \"south\": 51.17, \"east\": 5.17, \"north\": 51.19},\n",
        "    temporal_extent = [\"2021-02-01\", \"2021-04-30\"],\n",
        "    bands=[\"B02\", \"B04\", \"B08\"],\n",
        "    max_cloud_cover=85,\n",
        ")"
      ],
      "metadata": {
        "id": "jDMHsDG9-KZE"
      },
      "execution_count": 30,
      "outputs": []
    },
    {
      "cell_type": "code",
      "source": [
        "datacube = datacube.max_time()"
      ],
      "metadata": {
        "id": "vH4D8EfB-aD_"
      },
      "execution_count": 31,
      "outputs": []
    },
    {
      "source": [
        "# While not necessary, it is also recommended to give your batch job a descriptive title so it’s easier to identify in your job listing.\n",
        "job = datacube.execute_batch() # Use 'datacube' instead of 'cube'"
      ],
      "cell_type": "code",
      "metadata": {
        "colab": {
          "base_uri": "https://localhost:8080/"
        },
        "id": "oGHWp62C_IXw",
        "outputId": "c36d9419-7ab8-4fd4-ebe9-19b14b32d0cb"
      },
      "execution_count": 32,
      "outputs": [
        {
          "output_type": "stream",
          "name": "stdout",
          "text": [
            "0:00:00 Job 'j-2408152fbb374d758f4ed51914118000': send 'start'\n",
            "0:00:12 Job 'j-2408152fbb374d758f4ed51914118000': created (progress 0%)\n",
            "0:00:18 Job 'j-2408152fbb374d758f4ed51914118000': created (progress 0%)\n",
            "0:00:24 Job 'j-2408152fbb374d758f4ed51914118000': running (progress N/A)\n",
            "0:00:32 Job 'j-2408152fbb374d758f4ed51914118000': running (progress N/A)\n",
            "0:00:42 Job 'j-2408152fbb374d758f4ed51914118000': running (progress N/A)\n",
            "0:00:55 Job 'j-2408152fbb374d758f4ed51914118000': running (progress N/A)\n",
            "0:01:10 Job 'j-2408152fbb374d758f4ed51914118000': running (progress N/A)\n",
            "0:01:30 Job 'j-2408152fbb374d758f4ed51914118000': running (progress N/A)\n",
            "0:01:54 Job 'j-2408152fbb374d758f4ed51914118000': running (progress N/A)\n",
            "0:02:24 Job 'j-2408152fbb374d758f4ed51914118000': running (progress N/A)\n",
            "0:03:02 Job 'j-2408152fbb374d758f4ed51914118000': finished (progress 100%)\n"
          ]
        }
      ]
    },
    {
      "source": [
        "import openeo\n",
        "\n",
        "# First, we connect to the back-end and authenticate.\n",
        "con = openeo.connect(\"openeo.dataspace.copernicus.eu\")\n",
        "con.authenticate_oidc()\n",
        "\n",
        "# Now that we are connected, we can initialize our datacube object with the area of interest\n",
        "# and the time range of interest using Sentinel 1 data.\n",
        "datacube = connection.load_collection(\n",
        "    \"SENTINEL2_L2A\",\n",
        "    spatial_extent={\"west\": 5.14, \"south\": 51.17, \"east\": 5.17, \"north\": 51.19},\n",
        "    temporal_extent = [\"2021-02-01\", \"2021-04-30\"],\n",
        "    bands=[\"B02\", \"B04\", \"B08\"],\n",
        "    max_cloud_cover=85,\n",
        ")\n",
        "\n",
        "# By filtering as early as possible (directly in load_collection() in this case),\n",
        "# we make sure the back-end only loads the data we are interested in and avoid incurring unneeded costs.\n",
        "\n",
        "\n",
        "#From this data cube, we can now select the individual bands with the DataCube.band() method and rescale the digital number values to physical reflectances:\n",
        "blue = datacube.band(\"B02\") * 0.0001 # Use 'datacube' instead of 'sentinel2_cube'\n",
        "red = datacube.band(\"B04\") * 0.0001\n",
        "nir = datacube.band(\"B08\") * 0.0001\n",
        "\n",
        "\n",
        "# We now want to compute the enhanced vegetation index and can do that directly with these band variables:\n",
        "evi_cube = 2.5 * (nir - red) / (nir + 6.0 * red - 7.5 * blue + 1.0)\n",
        "\n",
        "# Load the data cube containing the \"SCL\" band. Make sure to adjust parameters as needed.\n",
        "s2_scl = connection.load_collection(\n",
        "    \"SENTINEL2_L2A\",\n",
        "    spatial_extent={\"west\": 5.14, \"south\": 51.17, \"east\": 5.17, \"north\": 51.19},\n",
        "    temporal_extent=[\"2021-02-01\", \"2021-04-30\"],\n",
        "    bands=[\"SCL\"],\n",
        "    max_cloud_cover=85\n",
        ")\n",
        "\n",
        "# Now we can use the compact “band math” feature again to build a binary mask with a simple comparison operation:\n",
        "# Select the \"SCL\" band from the data cube\n",
        "scl_band = s2_scl.band(\"SCL\")\n",
        "# Build mask to mask out everything but class 4 (vegetation)\n",
        "mask = (scl_band != 4)\n",
        "\n",
        "# Before we can apply this mask to the EVI cube we have to resample it, as the “SCL” layer has a “ground sample distance” of 20 meter, while it is 10 meter for the “B02”, “B04” and “B08” bands. We can easily do the resampling by referring directly to the EVI cube.\n",
        "mask_resampled = mask.resample_cube_spatial(evi_cube)\n",
        "\n",
        "# Apply the mask to the `evi_cube`\n",
        "evi_cube_masked = evi_cube.mask(mask_resampled)\n",
        "\n",
        "# Because GeoTIFF does not support a temporal dimension, we first eliminate it by taking the temporal maximum value for each pixel:\n",
        "evi_composite = evi_cube.max_time()\n",
        "\n",
        "# Now we can download this to a local file:\n",
        "evi_composite.download(\"evi-composite.tiff\")\n",
        "\n"
      ],
      "cell_type": "code",
      "metadata": {
        "colab": {
          "base_uri": "https://localhost:8080/"
        },
        "id": "l_toC5Z6BFyQ",
        "outputId": "3f894be5-c3af-40c7-c9b9-131ca2a9839e"
      },
      "execution_count": 37,
      "outputs": [
        {
          "output_type": "stream",
          "name": "stdout",
          "text": [
            "Authenticated using refresh token.\n"
          ]
        }
      ]
    }
  ]
}