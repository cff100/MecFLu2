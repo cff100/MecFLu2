{
  "nbformat": 4,
  "nbformat_minor": 0,
  "metadata": {
    "colab": {
      "provenance": [],
      "authorship_tag": "ABX9TyMgl5h4Kqqu57j9hYBnnEh+",
      "include_colab_link": true
    },
    "kernelspec": {
      "name": "python3",
      "display_name": "Python 3"
    },
    "language_info": {
      "name": "python"
    }
  },
  "cells": [
    {
      "cell_type": "markdown",
      "metadata": {
        "id": "view-in-github",
        "colab_type": "text"
      },
      "source": [
        "<a href=\"https://colab.research.google.com/github/cff100/MecFLu2/blob/main/Dados_combinados_2023(HPA_300%2C_500%2C_700%2C_850%2C_925).ipynb\" target=\"_parent\"><img src=\"https://colab.research.google.com/assets/colab-badge.svg\" alt=\"Open In Colab\"/></a>"
      ]
    },
    {
      "cell_type": "code",
      "source": [
        "!pip install cdsapi\n",
        "!pip install cartopy\n",
        "!pip install netcdf4\n",
        "\n",
        "import cdsapi\n",
        "import xarray as xr\n",
        "import pandas as pd"
      ],
      "metadata": {
        "id": "xOjbOcb6OLmN"
      },
      "execution_count": null,
      "outputs": []
    },
    {
      "cell_type": "code",
      "source": [
        "# Inicializa a API do CDS\n",
        "c = cdsapi.Client(url='https://cds.climate.copernicus.eu/api/v2', key='331408:d8c35ac5-fae8-4f2e-90fe-b448d76e3140')\n",
        "\n",
        "# Lista dos níveis de pressão\n",
        "pressure_levels = ['925', '850', '700', '500', '300']"
      ],
      "metadata": {
        "id": "5SdWyTDYOPm5"
      },
      "execution_count": 2,
      "outputs": []
    },
    {
      "cell_type": "code",
      "execution_count": 3,
      "metadata": {
        "id": "VCAfk_psCtJI"
      },
      "outputs": [],
      "source": [
        "# Localizações das plataformas de petróleo e gás\n",
        "platforms = {\n",
        "    'NAMORADO 2 (PNA-2)' :(-22.45073, -40.41175),\n",
        "    'PETROBRAS 26 (P-26)' :(-22.4684, -40.02869),\n",
        "    'PETROBRAS 32 (P-32)' :(-22.2051, -40.1431),\n",
        "    'PETROBRAS 37 (P-37)' :(-22.4868, -40.09779),\n",
        "    'PETROBRAS IX' :(-22.57358, -40.82192),\n",
        "    'PETROBRAS XIX' :(-22.3927, -40.05438),\n",
        "    'PETROBRAS XXXIII' :(-22.37, -40.0267),\n",
        "    'VERMELHO 1 (PVM-1)' :(-22.16065, -40.27872),\n",
        "    'VERMELHO 2 (PVM-2)' :(-22.17535, -40.29147),\n",
        "}\n",
        "\n"
      ]
    },
    {
      "cell_type": "code",
      "source": [
        "# DataFrame para armazenar todos os resultados\n",
        "combined_df = pd.DataFrame()\n",
        "\n",
        "for level in pressure_levels:\n",
        "    # Nome do arquivo NetCDF para cada nível de pressão\n",
        "    nc_filename = f'Era5_2023_{level}HPA_CAMPOS.nc'\n",
        "\n",
        "    # Requisição para cada nível de pressão\n",
        "    c.retrieve(\n",
        "        'reanalysis-era5-pressure-levels',\n",
        "        {\n",
        "            'product_type': 'reanalysis',\n",
        "            'format': 'netcdf',\n",
        "            'variable': [\n",
        "                'u_component_of_wind', 'v_component_of_wind',\n",
        "            ],\n",
        "            'pressure_level': level,\n",
        "            'year': '2023',\n",
        "            'month': [\n",
        "                '01', '02', '03',\n",
        "                '04', '05', '06',\n",
        "                '07', '08', '09',\n",
        "                '10', '11', '12',\n",
        "            ],\n",
        "            'day': [\n",
        "                '01', '02', '03',\n",
        "                '04', '05', '06',\n",
        "                '07', '08', '09',\n",
        "                '10', '11', '12',\n",
        "                '13', '14', '15',\n",
        "                '16', '17', '18',\n",
        "                '19', '20', '21',\n",
        "                '22', '23', '24',\n",
        "                '25', '26', '27',\n",
        "                '28', '29', '30',\n",
        "                '31',\n",
        "            ],\n",
        "            'time': [\n",
        "                '00:00', '01:00', '02:00',\n",
        "                '03:00', '04:00', '05:00',\n",
        "                '06:00', '07:00', '08:00',\n",
        "                '09:00', '10:00', '11:00',\n",
        "                '12:00', '13:00', '14:00',\n",
        "                '15:00', '16:00', '17:00',\n",
        "                '18:00', '19:00', '20:00',\n",
        "                '21:00', '22:00', '23:00',\n",
        "            ],\n",
        "            'area': [\n",
        "                -27, -45, -20, -35,  # Coordenadas da Bacia de Campos\n",
        "            ],\n",
        "        },\n",
        "        nc_filename)\n",
        "\n",
        "    # Carregar o arquivo NetCDF\n",
        "    ds = xr.open_dataset(nc_filename)\n",
        "\n",
        "    # Calcula a velocidade do vento (wspd) a partir das componentes u e v\n",
        "    u = ds['u']\n",
        "    v = ds['v']\n",
        "    wspd = (u**2 + v**2)**0.5\n",
        "\n",
        "    # Calcula a média da velocidade do vento para cada ponto de grade ao longo dos horários e dias, agrupando por estação do ano\n",
        "    wspd_mean_season = wspd.groupby('time.season').mean(dim=['time'])\n",
        "\n",
        "    # Cria um DataFrame para armazenar os resultados\n",
        "    result_df = pd.DataFrame(index=platforms.keys())\n",
        "\n",
        "    # Loop sobre as estações do ano\n",
        "    for season in ['DJF', 'MAM', 'JJA', 'SON']:\n",
        "        for platform, (lat, lon) in platforms.items():\n",
        "            # Obtém o valor da média da velocidade do vento para a plataforma e estação do ano específicos\n",
        "            value = wspd_mean_season.sel(season=season).interp(latitude=lat, longitude=lon, method='nearest').values.item()\n",
        "            result_df.loc[platform, f'{season}_{level}HPA'] = value\n",
        "\n",
        "    # Adiciona o DataFrame ao DataFrame combinado\n",
        "    combined_df = pd.concat([combined_df, result_df], axis=1)\n",
        "\n",
        "    # Fecha o arquivo NetCDF\n",
        "    ds.close()\n",
        "\n"
      ],
      "metadata": {
        "id": "V65KGebjSb12"
      },
      "execution_count": null,
      "outputs": []
    },
    {
      "cell_type": "code",
      "source": [
        "# Salva o DataFrame combinado como CSV\n",
        "combined_df.to_csv('2023_combined_pressure_levels.csv', index=True)"
      ],
      "metadata": {
        "id": "4_nNPfgEZujq"
      },
      "execution_count": null,
      "outputs": []
    },
    {
      "source": [
        "import pandas as pd\n",
        "import matplotlib.pyplot as plt\n",
        "\n",
        "# Carrega o DataFrame combinado a partir do arquivo CSV\n",
        "df = pd.read_csv('2023_combined_pressure_levels.csv', index_col=0)\n",
        "\n",
        "# Define a ordem das estações do ano para garantir a ordem correta no gráfico\n",
        "stations = ['DJF', 'MAM', 'JJA', 'SON']\n",
        "\n",
        "# Cria um gráfico\n",
        "plt.figure(figsize=(12, 6))\n",
        "\n",
        "# Loop sobre os níveis de pressão (extraídos do nome das colunas)\n",
        "pressure_levels = [col.split('_')[-1] for col in df.columns if '_' in col]\n",
        "pressure_levels = sorted(set(pressure_levels))  # Remove duplicatas e ordena\n",
        "\n",
        "for level in pressure_levels:\n",
        "    # Filtra as colunas para o nível de pressão atual\n",
        "    level_columns = [col for col in df.columns if col.endswith(f'{level}')] # Changed to match column names\n",
        "\n",
        "    # Para cada nível de pressão, plota as curvas\n",
        "    if level_columns: # Check if level_columns is not empty\n",
        "        plt.plot(stations, df[level_columns].mean(axis=0), label=f'Pressure Level {level} hPa')\n",
        "\n",
        "# Adiciona título e rótulos aos eixos\n",
        "plt.title('Média da Velocidade do Vento por Estação do Ano e Nível de Pressão')\n",
        "plt.xlabel('Estação do Ano')\n",
        "plt.ylabel('Velocidade Média do Vento (m/s)')\n",
        "plt.legend()\n",
        "plt.grid(True)\n",
        "\n",
        "# Exibe o gráfico\n",
        "plt.tight_layout()\n",
        "plt.savefig('VelocidadeXEstação_do_ano.png')\n",
        "plt.show()"
      ],
      "cell_type": "code",
      "metadata": {
        "id": "ZLy3-Hu0aQiu"
      },
      "execution_count": null,
      "outputs": []
    }
  ]
}